{
 "cells": [
  {
   "cell_type": "markdown",
   "id": "f4b9d026",
   "metadata": {},
   "source": [
    "<div>\n",
    "    <h1>\n",
    "        Exercício API TomTom\n",
    "    </h1>\n",
    "    <h3>\n",
    "        Pretende-se com este exercicio responder à questão: Quantos cafés existem na Baixa Pombalina?\n",
    "    </h3>\n",
    "    <p>\n",
    "        Com o presente notebook irei relatar as decisões tomadas e evidenciar o respetivo código para responder ao desafio colocado.\n",
    "    </p>\n",
    "    <div class=\"alert alert-info\">\n",
    "        O inicío de cada secção será destacado com este fundo.\n",
    "    </div>\n",
    "    <div class=\"alert alert-success\">\n",
    "        Para cada secção será efetuada uma breve conclusão que será destacada com este fundo.\n",
    "    </div>\n",
    "    <p>\n",
    "        Para o efeito o indíce da resolução deste exercicio é o seguinte:\n",
    "    </p>\n",
    "        <ol>\n",
    "            <strong><li>API TomTom</li></strong>\n",
    "            <ul>\n",
    "                <li>1.1 Escolha da API</li>\n",
    "                <li>1.2 Escolha do endpoint</li>\n",
    "                <li>1.3 Parâmetros obrigatórios</li>\n",
    "                <li>1.4 Parâmetros opicionais</li>\n",
    "            </ul>\n",
    "            <strong><li>Baixa Pombalina</li></strong>\n",
    "            <ul>\n",
    "                <li>2.1 Fonte de informação</li>\n",
    "                <li>2.2 Delimitação de perímetro</li>\n",
    "            </ul>\n",
    "            <strong><li>Carregamento dos dados</li></strong>\n",
    "            <ul>\n",
    "                <li>3.1 Request URL (API TomTom)</li>\n",
    "                <li>3.2 Python - Requests (Postman)</li>\n",
    "                <li>3.3 json-encoded (Python)</li>\n",
    "           </ul>\n",
    "            <strong><li>Análise preliminar</li></strong>\n",
    "            <ul>\n",
    "                <li>4.1 Resposta provisória</li>\n",
    "                <li>4.2 Visualização de dados</li>\n",
    "           </ul>\n",
    "            <strong><li>Divisão do perímetro</li></strong>\n",
    "            <ul>\n",
    "                <li>5.1 Latitude 'divisória'</li>\n",
    "                <li>5.2 Perímetro Norte</li>\n",
    "                <li>5.3 Perímetro Sul</li>\n",
    "                <li>5.4 Perímetro Norte_Sul</li>\n",
    "                <li>5.5 Coerência dos dados</li>\n",
    "           </ul>\n",
    "           <strong><li>Análise Final</li></strong>\n",
    "            <ul>\n",
    "                <li>6.1 Ruas a excluir</li>\n",
    "                <li>6.2 Dados finais</li>\n",
    "                <li>6.3 Resposta ao desafio</li>\n",
    "           </ul> \n",
    "        </ol>\n",
    "</div>"
   ]
  },
  {
   "cell_type": "markdown",
   "id": "e89e254b",
   "metadata": {},
   "source": [
    "<div class=\"alert alert-info\">\n",
    "        1. API TomTom\n",
    "</div>"
   ]
  },
  {
   "cell_type": "markdown",
   "id": "65f24452",
   "metadata": {},
   "source": [
    "#### 1.1 Escolha da API"
   ]
  },
  {
   "cell_type": "markdown",
   "id": "cc26a137",
   "metadata": {},
   "source": [
    "<div>\n",
    "    <p>\n",
    "        Conforme resulta do exercicío prosposto, pretende-se usar a API da <a href=\"https://developer.tomtom.com/\">TomTom</a> para responder à pergunta: <strong>Quantos cafés existem na Baixa Pombalina?</strong>\n",
    "    </p>\n",
    "    <p>\n",
    "        Sabendo que é para usar uma API da TomTom, o passo seguinte será saber qual? Assim, vamos ver as APIs oferecidos.\n",
    "    </p>\n",
    "    <p>\n",
    "        O sitío agrupa as APIs em: 'MAPS'; 'DIRECTIONS'; 'PLACES; 'TRAFFIC'; 'TRACKING'; 'SDKs', e faz um resumo das funcionalidades de cada uma delas.\n",
    "    </p>\n",
    "    <p>\n",
    "        Lendo as funcionalidades constante no grupo 'PLACES', parece que a API que procuramos se encontra neste grupo.<br>\n",
    "        <q>Search for an address, business or place. Geocode to validate and structure addresses globally.</q>\n",
    "    </p>\n",
    "    <p>\n",
    "        Neste grupo os <a href=\"https://developer.tomtom.com/products/places-api\">produtos oferecidos</a> são: 'Search API' e 'Extended Search API'. E aqui, o produto <strong>'Search API'</strong>, parece que vem ao encontro do pretendido.<br>\n",
    "        <q>Add a search box to your app or website to connect users to millions of places globally. Easily get latitude and longitude from an address or place and vice versa with geocoding and reverse geocoding.</q>\n",
    "    </p>\n",
    "</div>"
   ]
  },
  {
   "cell_type": "markdown",
   "id": "daf298a0",
   "metadata": {},
   "source": [
    "#### 1.2 Escolha do endpoint"
   ]
  },
  {
   "cell_type": "markdown",
   "id": "37b44d78",
   "metadata": {},
   "source": [
    "<div>\n",
    "    <p>\n",
    "        Vamos agora ver a documentação de <a href=\"https://developer.tomtom.com/search-api/search-api-documentation\">'Search API'.</a>\n",
    "    </p>\n",
    "    <p>\n",
    "        Dos vários 'endpoints' qual o que satisfaz o nosso propósito?\n",
    "    </p>\n",
    "    <p>\n",
    "        Parece que o <a href=\"https://developer.tomtom.com/search-api/search-api-documentation-search/points-interest-search\">Points of Interest Search</a> encaixa que nem \"uma luva\".<br>\n",
    "        <q>If your search use case only requires POI results, you may use the Points of Interest endpoint for searching. This endpoint will only return POI results.</q>\n",
    "    </p> \n",
    "</div>"
   ]
  },
  {
   "cell_type": "markdown",
   "id": "93c6ea7a",
   "metadata": {},
   "source": [
    "#### 1.3 Parâmetros obrigatórios"
   ]
  },
  {
   "cell_type": "markdown",
   "id": "2dd2d559",
   "metadata": {},
   "source": [
    "<div>\n",
    "    <p>\n",
    "        Abaixo são apresentados os parâmetros obrigatórios.\n",
    "    </p>\n",
    "    <p>\n",
    "        Os parâmetros a preencher são:\n",
    "        <br> - 'query': que corresponderá no caso em apreço a palavra \"Café\".\n",
    "        <br> - 'ext': que será preenchido com o formato que se pretende obter a resposta \"JSON\"\n",
    "        <br> - 'key': que deverá corresponder à chave atribuida aquando da criação de conta em <a href=\"https://developer.tomtom.com/user/me/apps\">TomTom</a>\n",
    "    </p>\n",
    "    <p>\n",
    "        Os demais campos vamos aceitar os valores padrão.\n",
    "    </p>\n",
    "    <img src=\"img_parametros_obrigatorios.PNG\" alt=\"Parâmetros obrigatórios\" width=\"1000\" height=\"600\">\n",
    "</div>"
   ]
  },
  {
   "cell_type": "markdown",
   "id": "8abf31f9",
   "metadata": {},
   "source": [
    "#### 1.4 Parâmetros opcionais"
   ]
  },
  {
   "cell_type": "markdown",
   "id": "b017b482",
   "metadata": {},
   "source": [
    "<div>\n",
    "    <p>\n",
    "        A escolha dos parâmetros opcionais está diretamente ligada ao propósito do desafio e na abordagem a seguir.\n",
    "    </p>\n",
    "    <p>\n",
    "        Pela leitura da documentação poderemos procurar 'Cafés' na 'Baixa Pombalina', cuja localização (latitude e longitude) se encontre contida num perímetro:\n",
    "    </p>\n",
    "    <ul>\n",
    "        <li>cirlular, ou</li>\n",
    "        <li>retangular</li>\n",
    "    </ul>\n",
    "    <p>\n",
    "       Enquanto que no primeiro caso são determinantes os parâmetros 'lat', 'lon' e 'radius', no segundo caso são determinantes os parâmetros 'topLeft', 'btmRight'.\n",
    "    </p>\n",
    "    <p>\n",
    "       A solução aqui apresentada, como se verá adiante, terá como abordagem a procura de cafés num perimero retangular.\n",
    "    </p>\n",
    "    <p>\n",
    "       Também importante, como se verá mais à frente, iremos atribuir o valor de '100' ao parâmetro 'limit', por forma a premitir a visualização do máximo dos dados procurados, bem como os poder manipular (o valor padrão constante da documentação é 10).\n",
    "    </p>\n",
    "</div>"
   ]
  },
  {
   "cell_type": "markdown",
   "id": "ca0d22fa",
   "metadata": {},
   "source": [
    "<div class=\"alert alert-success\">\n",
    "    <p>\n",
    "        Em conclusão e após consulta da documentação existente temos que a API da TomTom que vamos usar é a 'Search API', endpoint 'Points of Interest Search', abreviadamente POI Search, pela razão que nos retorna os 'Cafés' existentes num determinado perímetro definido.\n",
    "    </p>\n",
    "    <p>\n",
    "        Serão aceites os valores padrão dos parâmetros obrigatórios, 'baseURL'(api.tomtom.com), 'versionNumber'(2), e serão prenchidos os valores dos parâmetros:\n",
    "    </p>\n",
    "    <ul>\n",
    "        <li>obrigatórios,</li>\n",
    "            <ul>\n",
    "                <li>'query': \"Café\"</li>\n",
    "                <li>'ext': \"JASON\"</li>\n",
    "                <li>'key': ver em https://developer.tomtom.com/user/me/apps</li>\n",
    "            </ul>\n",
    "            <li>facultativos,</li>\n",
    "        <ul>\n",
    "            <li>'topLeft': ver secção seguinte</li>\n",
    "            <li>'btmRight': ver secção seguinte</li>\n",
    "            <li>'limit': 100</li>\n",
    "        </ul>\n",
    "    </ul>    \n",
    "</div>"
   ]
  },
  {
   "cell_type": "markdown",
   "id": "7c79e97b",
   "metadata": {},
   "source": [
    "<div class=\"alert alert-info\">\n",
    "        2. Baixa Pombalina\n",
    "</div>"
   ]
  },
  {
   "cell_type": "markdown",
   "id": "7a52af21",
   "metadata": {},
   "source": [
    "#### 2.1 Fonte de informação"
   ]
  },
  {
   "cell_type": "markdown",
   "id": "b0d18dae",
   "metadata": {},
   "source": [
    "<div>\n",
    "    <p>\n",
    "        A fonte de informação escolhida neste exercicício foi o <a href=\"https://pt.wikipedia.org/wiki/Baixa_de_Lisboa\">Wikipédia</a>. Transcreve-se abaixo a parte considerada como relevante para a resolução do desafio.\n",
    "    </p>\n",
    "    <q>\n",
    "        A baixa de Lisboa, também chamada Baixa Pombalina ou Lisboa Pombalina por ter sido edificada por ordem do Marquês de Pombal, na sequência do terramoto de 1755, cobrindo uma área de cerca de 255 hectares. Situa-se entre o Terreiro do Paço, junto ao rio Tejo, Rossio e a Praça da Figueira, e longitudinalmente entre o Cais do Sodré, o Chiado e o Carmo, de um lado, e a Sé e a colina do Castelo de São Jorge, do outro.\n",
    "    </q>\n",
    "</div>"
   ]
  },
  {
   "cell_type": "markdown",
   "id": "cac60fb4",
   "metadata": {},
   "source": [
    "#### 2.2 Delimitação de perímetro"
   ]
  },
  {
   "cell_type": "markdown",
   "id": "97cbdd27",
   "metadata": {},
   "source": [
    "<div>\n",
    "    <p>\n",
    "        Conforme se pode verificar, a àrea da chamada Baixa Pombalina é delimitada a sul pelo Terreiro de Paço, a norte pelo Rossio e Praça da Figueira, a oeste pelo Cais Sodré, Chiago e o Carmo, e a este pela Sé e colina de São Jorge.\n",
    "    </p>\n",
    "    <p>\n",
    "        Abaixo segue uma representação gráfica daquilo que poderá integrar o perímetro da Baixa Pombalina:\n",
    "    </p>\n",
    "    <img src='img_baixa_pombalina.PNG'alt=\"Parâmetros obrigatórios\" width=\"1000\" height=\"600\">\n",
    "    <p>\n",
    "        Não sendo local, admite-se que o perímetro aqui proposto possa comtemplar àreas que não façam parte da denominada Baixa Pombalina. Para o efeito, poderão ser seguidas duas abordagem para refinamento:\n",
    "    </p>\n",
    "    <ul>\n",
    "        <li>Remoção subsequente de àreas determinadas (ex: ruas, travessa, etc), e/ou</li>\n",
    "        <li>Ajustamento das coordenadas 'topLef' e 'btmRight</li>\n",
    "    </ul>\n",
    "    <p>\n",
    "        Como se verá na secção 6 deste relatório, foram subtraídos registos com base numa perceção pessoal de algumas àreas (ruas, travessas, etc) que não integrarão a Baixa Pombalina.\n",
    "    </p>  \n",
    "</div>"
   ]
  },
  {
   "cell_type": "markdown",
   "id": "75f98603",
   "metadata": {},
   "source": [
    "<div class=\"alert alert-success\">\n",
    "    <p>\n",
    "        Em resultado do exposto nesta secção e tendo como referência o Wikipédia, foi definido um perímetro próximo daquilo que se entenderá por Baixa Pombalina, cujas coordenadas relevantes corresponderão aos parâmetros 'topLeft' e 'btmRight' da API 'POI Search', respetivamente de {38.714921,-9.144199} e {38.705475,-9.132205}.\n",
    "    </p>\n",
    "    <p>\n",
    "        Por outro lado, ficou patente que poderão ser excluidas posteriormente áreas (ruas, travessas, etc), que se venham a entender que não integram a Baixa Pombalina.\n",
    "    </p>\n",
    "    </div>"
   ]
  },
  {
   "cell_type": "markdown",
   "id": "ef9a88c4",
   "metadata": {},
   "source": [
    "<div class=\"alert alert-info\">\n",
    "        3. Carregamento dos dados\n",
    "</div>"
   ]
  },
  {
   "cell_type": "markdown",
   "id": "a6694d63",
   "metadata": {},
   "source": [
    "### 3.1 Request URL (API TomTom)"
   ]
  },
  {
   "cell_type": "markdown",
   "id": "e8716bc0",
   "metadata": {},
   "source": [
    "<div>\n",
    "    <p>\n",
    "        Na página da TomTom é-nos permitido experimentar a <a href=\"https://developer.tomtom.com/content/search-api-explorer#/Search/get_search__versionNumber__poiSearch__query___ext_\">POI Search</a>, que ao executar, para além da resposta do sevidor, devolvo-nos a 'Request URL'. Antes de executar, vamos preencher os parâmetros, acima indicados e tidos como relevantes para a presente análise:\n",
    "    </p>\n",
    "    <ul>\n",
    "        <li>'baseURL': api.tomtom.com</li>\n",
    "        <li>'versionNumber': 2</li>\n",
    "        <li>'query': \"Café\"</li>\n",
    "        <li>'ext': \"JSON\"</li>\n",
    "        <li>'key': chave atribuida aquando da criação de conta em <a href=\"https://developer.tomtom.com/user/me/apps\">TomTom</a></li>\n",
    "        <li>'limit': 100</li>\n",
    "        <li>'topLeft': 38.714921,-9.144199</li>\n",
    "        <li>'topRight': 38.705475,-9.132205</li>\n",
    "    </ul>\n",
    "    <p>\n",
    "        Como resposta é-nos dado o seguinte 'Request URL': https://api.tomtom.com/search/2/poiSearch/Caf%C3%A9.json?limit=100&topLeft=38.714921%2C-9.144199&btmRight=38.705475%2C-9.132205&key=*****\n",
    "    </p>\n",
    "</div>"
   ]
  },
  {
   "cell_type": "markdown",
   "id": "7406f58c",
   "metadata": {},
   "source": [
    "### 3.2 Python - Requests URL (Postman)"
   ]
  },
  {
   "cell_type": "markdown",
   "id": "add8c28e",
   "metadata": {},
   "source": [
    "<div>\n",
    "    <p>\n",
    "        Chegados aqui, vamos descarregar o <a href=\"https://www.postman.com/downloads/Postman\">Postman</a> e efetuar o request por aqui. Nesta plataforma é-nos possivel incluir agora o parâmetro referente à 'key', que é o que vamos fazer. É possivel também alterar e remover parâmetros, bem como adicionar novos.\n",
    "    </p>\n",
    "    <p>\n",
    "        A imagem seguinte mostra a aparência do Postman:\n",
    "    </p>\n",
    "    <p>\n",
    "       Selecionamos 'GET', colocamos o 'Request URL' mencionado na secção 3.1, adicionamos o parâmetro 'key' e fazemos 'Sent'.\n",
    "    </p>    \n",
    "    <img src='img_postam_request.PNG' alt=\"Postman Request\" width=\"800\" height=\"600\">    \n",
    "</div>"
   ]
  },
  {
   "cell_type": "markdown",
   "id": "2f713543",
   "metadata": {},
   "source": [
    "### 3.3 json-encoded (Python)"
   ]
  },
  {
   "cell_type": "markdown",
   "id": "c6515d17",
   "metadata": {},
   "source": [
    "<div>\n",
    "    <p>\n",
    "        Ainda no Postmam vamos ver como obter o código em python.<br>\n",
    "        À direita do botão 'Sent' ir a 'Codesnippet', caso esteja oculto clica-se em '<>', seleciona-se 'Python - Requests'e copia-se para o notebook o respetivo código.\n",
    "    </p>\n",
    "    <img src='img_python_request.PNG' alt=\"Python Request\" width=\"800\" height=\"600\">    \n",
    "</div>"
   ]
  },
  {
   "cell_type": "code",
   "execution_count": 1,
   "id": "94f44685",
   "metadata": {},
   "outputs": [],
   "source": [
    "import requests\n",
    "\n",
    "url = \"https://api.tomtom.com/search/2/poiSearch/Caf%C3%A9.json?limit=100&topLeft=38.714921%2C-9.144199&btmRight=38.705475%2C-9.132205&key=SGShbhTeJ6haP1OQ8uEELzjFaNYDhyZe\"\n",
    "\n",
    "payload={}\n",
    "headers = {}\n",
    "\n",
    "response = requests.request(\"GET\", url, headers=headers, data=payload)\n",
    "\n",
    "#print(response.text)"
   ]
  },
  {
   "cell_type": "markdown",
   "id": "bf274443",
   "metadata": {},
   "source": [
    "<div class=\"alert alert-success\">\n",
    "        Nesta secção vimos como efetuar o request para obter os dados necessários à resposta colocada, terminando a secção com o carregamento dos mesmos para o presente notebook.\n",
    "</div>"
   ]
  },
  {
   "cell_type": "markdown",
   "id": "685b8c44",
   "metadata": {},
   "source": [
    "<div class=\"alert alert-info\">\n",
    "        4. Análise Preliminar\n",
    "</div>"
   ]
  },
  {
   "cell_type": "markdown",
   "id": "686442be",
   "metadata": {},
   "source": [
    "### 4.1 Resposta Provisória"
   ]
  },
  {
   "cell_type": "markdown",
   "id": "c92afa36",
   "metadata": {},
   "source": [
    "<div>\n",
    "    <p>\n",
    "        Antes de mais precisamos tratar a request de forma que possamos ler no formato 'JASON'. Para tal vamos gravar na variável 'd'. Efetuado isto a variável agora criada é do tipo 'dict'\n",
    "    </p>    \n",
    "</div>"
   ]
  },
  {
   "cell_type": "code",
   "execution_count": 2,
   "id": "7a9cd9b6",
   "metadata": {},
   "outputs": [
    {
     "data": {
      "text/plain": [
       "dict"
      ]
     },
     "execution_count": 2,
     "metadata": {},
     "output_type": "execute_result"
    }
   ],
   "source": [
    "d = response.json()\n",
    "type(d)"
   ]
  },
  {
   "cell_type": "markdown",
   "id": "d3186e9d",
   "metadata": {},
   "source": [
    "<div>\n",
    "    <p>\n",
    "        Vamos saber as 'keys', do dicionário.\n",
    "    </p>    \n",
    "</div>"
   ]
  },
  {
   "cell_type": "code",
   "execution_count": 3,
   "id": "e1150903",
   "metadata": {},
   "outputs": [
    {
     "data": {
      "text/plain": [
       "dict_keys(['summary', 'results'])"
      ]
     },
     "execution_count": 3,
     "metadata": {},
     "output_type": "execute_result"
    }
   ],
   "source": [
    "d.keys()"
   ]
  },
  {
   "cell_type": "markdown",
   "id": "824ecf2c",
   "metadata": {},
   "source": [
    "<div>\n",
    "    <p>\n",
    "        Vamos expandir a análise à 'key' 'summary', que no caso em apreço são os nossos metadados.\n",
    "    </p>    \n",
    "</div>"
   ]
  },
  {
   "cell_type": "code",
   "execution_count": 4,
   "id": "b5c6beb1",
   "metadata": {},
   "outputs": [
    {
     "data": {
      "text/plain": [
       "{'query': 'café',\n",
       " 'queryType': 'NON_NEAR',\n",
       " 'queryTime': 246,\n",
       " 'numResults': 100,\n",
       " 'offset': 0,\n",
       " 'totalResults': 179,\n",
       " 'fuzzyLevel': 1}"
      ]
     },
     "execution_count": 4,
     "metadata": {},
     "output_type": "execute_result"
    }
   ],
   "source": [
    "d['summary']"
   ]
  },
  {
   "cell_type": "markdown",
   "id": "2d3fb216",
   "metadata": {},
   "source": [
    "<div>\n",
    "    <p>\n",
    "        Ok. Parece que temos uma resposta, ainda que provisória, à questão em 'totalResults'. Confirmemos:\n",
    "    </p>    \n",
    "</div>"
   ]
  },
  {
   "cell_type": "code",
   "execution_count": 27,
   "id": "387376ec",
   "metadata": {},
   "outputs": [
    {
     "name": "stdout",
     "output_type": "stream",
     "text": [
      "Total de cafés: 179\n"
     ]
    }
   ],
   "source": [
    "print('Total de cafés: {}'.format(str(d['summary']['totalResults'])))"
   ]
  },
  {
   "cell_type": "markdown",
   "id": "edc5550d",
   "metadata": {},
   "source": [
    "### 4.2 Visualização de dados"
   ]
  },
  {
   "cell_type": "markdown",
   "id": "3e03886a",
   "metadata": {},
   "source": [
    "<div>\n",
    "    <p>\n",
    "        Vamos agora ver os dados devolvidos pela POI Search.\n",
    "    </p>\n",
    "    <p>\n",
    "        Para tal vamos dar o seguintes passos:\n",
    "    </p>\n",
    "    <ol>\n",
    "        <li>Importar a biblioteca pandas</li>\n",
    "        <li>Criar um DataFrame vazio, com as colunas necessárias</li>\n",
    "        <li>Efetuar o append dos registos ao DataFrame (com base num laço de repetição)</li>\n",
    "    </ol>\n",
    "    <p>\n",
    "        <strong>Nota:</strong> Como nem todos os 'itens' de 'results' têm informação da 'streetName', nesses casos vamos recolher a informação referente a 'municipalitySubdivision'.\n",
    "    </p>\n",
    "</div>"
   ]
  },
  {
   "cell_type": "code",
   "execution_count": 6,
   "id": "78bd9045",
   "metadata": {},
   "outputs": [
    {
     "data": {
      "text/html": [
       "<div>\n",
       "<style scoped>\n",
       "    .dataframe tbody tr th:only-of-type {\n",
       "        vertical-align: middle;\n",
       "    }\n",
       "\n",
       "    .dataframe tbody tr th {\n",
       "        vertical-align: top;\n",
       "    }\n",
       "\n",
       "    .dataframe thead th {\n",
       "        text-align: right;\n",
       "    }\n",
       "</style>\n",
       "<table border=\"1\" class=\"dataframe\">\n",
       "  <thead>\n",
       "    <tr style=\"text-align: right;\">\n",
       "      <th></th>\n",
       "      <th>cafe</th>\n",
       "      <th>rua/mun_subdiv</th>\n",
       "      <th>latitude</th>\n",
       "      <th>longitude</th>\n",
       "    </tr>\n",
       "  </thead>\n",
       "  <tbody>\n",
       "    <tr>\n",
       "      <th>0</th>\n",
       "      <td>Casa Suiça</td>\n",
       "      <td>Santa Maria Maior</td>\n",
       "      <td>38.71358</td>\n",
       "      <td>-9.13827</td>\n",
       "    </tr>\n",
       "    <tr>\n",
       "      <th>1</th>\n",
       "      <td>Caximbar</td>\n",
       "      <td>Rua da Costa do Castelo</td>\n",
       "      <td>38.71208</td>\n",
       "      <td>-9.13450</td>\n",
       "    </tr>\n",
       "    <tr>\n",
       "      <th>2</th>\n",
       "      <td>Brasilia</td>\n",
       "      <td>Praça do Duque da Terceira</td>\n",
       "      <td>38.70671</td>\n",
       "      <td>-9.14371</td>\n",
       "    </tr>\n",
       "    <tr>\n",
       "      <th>3</th>\n",
       "      <td>Frutaria</td>\n",
       "      <td>Rua dos Fanqueiros</td>\n",
       "      <td>38.71321</td>\n",
       "      <td>-9.13698</td>\n",
       "    </tr>\n",
       "    <tr>\n",
       "      <th>4</th>\n",
       "      <td>Nova Tertúlia</td>\n",
       "      <td>Rua do Diário de Notícias</td>\n",
       "      <td>38.71213</td>\n",
       "      <td>-9.14411</td>\n",
       "    </tr>\n",
       "    <tr>\n",
       "      <th>...</th>\n",
       "      <td>...</td>\n",
       "      <td>...</td>\n",
       "      <td>...</td>\n",
       "      <td>...</td>\n",
       "    </tr>\n",
       "    <tr>\n",
       "      <th>95</th>\n",
       "      <td>Red Café</td>\n",
       "      <td>Rua da Vitória</td>\n",
       "      <td>38.71094</td>\n",
       "      <td>-9.13794</td>\n",
       "    </tr>\n",
       "    <tr>\n",
       "      <th>96</th>\n",
       "      <td>Delta Cafés</td>\n",
       "      <td>Largo do Chão do Loureiro</td>\n",
       "      <td>38.71206</td>\n",
       "      <td>-9.13526</td>\n",
       "    </tr>\n",
       "    <tr>\n",
       "      <th>97</th>\n",
       "      <td>Bar Do Ricardo</td>\n",
       "      <td>Rua do Norte</td>\n",
       "      <td>38.71188</td>\n",
       "      <td>-9.14381</td>\n",
       "    </tr>\n",
       "    <tr>\n",
       "      <th>98</th>\n",
       "      <td>Café Bertrand</td>\n",
       "      <td>Rua Anchieta</td>\n",
       "      <td>38.71062</td>\n",
       "      <td>-9.14117</td>\n",
       "    </tr>\n",
       "    <tr>\n",
       "      <th>99</th>\n",
       "      <td>O Cocas</td>\n",
       "      <td>Rua dos Correeiros</td>\n",
       "      <td>38.71271</td>\n",
       "      <td>-9.13792</td>\n",
       "    </tr>\n",
       "  </tbody>\n",
       "</table>\n",
       "<p>100 rows × 4 columns</p>\n",
       "</div>"
      ],
      "text/plain": [
       "              cafe              rua/mun_subdiv  latitude  longitude\n",
       "0       Casa Suiça           Santa Maria Maior  38.71358   -9.13827\n",
       "1         Caximbar     Rua da Costa do Castelo  38.71208   -9.13450\n",
       "2         Brasilia  Praça do Duque da Terceira  38.70671   -9.14371\n",
       "3         Frutaria          Rua dos Fanqueiros  38.71321   -9.13698\n",
       "4    Nova Tertúlia   Rua do Diário de Notícias  38.71213   -9.14411\n",
       "..             ...                         ...       ...        ...\n",
       "95        Red Café              Rua da Vitória  38.71094   -9.13794\n",
       "96     Delta Cafés   Largo do Chão do Loureiro  38.71206   -9.13526\n",
       "97  Bar Do Ricardo                Rua do Norte  38.71188   -9.14381\n",
       "98   Café Bertrand                Rua Anchieta  38.71062   -9.14117\n",
       "99         O Cocas          Rua dos Correeiros  38.71271   -9.13792\n",
       "\n",
       "[100 rows x 4 columns]"
      ]
     },
     "execution_count": 6,
     "metadata": {},
     "output_type": "execute_result"
    }
   ],
   "source": [
    "import pandas as pd\n",
    "df = pd.DataFrame(columns=['cafe','rua/mun_subdiv', 'latitude', 'longitude'])\n",
    "for i in d['results']:\n",
    "    try:\n",
    "        df = df.append({'cafe': i['poi']['name'],\n",
    "                        'rua/mun_subdiv':i['address']['streetName'],\n",
    "                        'latitude':i['position']['lat'],\n",
    "                        'longitude':i['position']['lon']}, ignore_index=True)\n",
    "    except:\n",
    "        KeyError\n",
    "        df = df.append({'cafe': i['poi']['name'],\n",
    "                        'rua/mun_subdiv':i['address']['municipalitySubdivision'],\n",
    "                        'latitude':i['position']['lat'],\n",
    "                        'longitude':i['position']['lon']}, ignore_index=True)\n",
    "df"
   ]
  },
  {
   "cell_type": "markdown",
   "id": "71bac9e8",
   "metadata": {},
   "source": [
    "<div>\n",
    "    <p>\n",
    "        Conforme se pode verificar, apesar do total de 'Cafés' retornado ser 179, apenas conseguimos visualizar 100, e isto deve-se à limitação da API no parâmetro 'limit'.\n",
    "    </p>\n",
    "        <p>\n",
    "        Pelo refrido, a estratégia a seguir, constante na secção seguinte, passará por dividir o perímetro em 2 (norte e sul) aquando do 'Request URL' e posteriormente juntar os dois Dataframes.\n",
    "    </p>\n",
    "</div>"
   ]
  },
  {
   "cell_type": "markdown",
   "id": "dd7ec72b",
   "metadata": {},
   "source": [
    "<div class=\"alert alert-success\">\n",
    "    <p>\n",
    "        Aqui foi carregada informação pretendida com base na POI Search, contudo não conseguimos visualizar todos os 'Cafés' existentes no perímetro definido. Essa informação é importante para que possamos dar o passo seguinte, ou seja, identificar 'Cafés' a excluir com base no seu endereço ('rua/mun_subdiv').\n",
    "    </p>\n",
    "</div>"
   ]
  },
  {
   "cell_type": "markdown",
   "id": "07e8e088",
   "metadata": {},
   "source": [
    "<div class=\"alert alert-info\">\n",
    "    5. Divisão do perímetro\n",
    "</div>"
   ]
  },
  {
   "cell_type": "markdown",
   "id": "83b0ae10",
   "metadata": {},
   "source": [
    "### 5.1 Latitude divisória"
   ]
  },
  {
   "cell_type": "markdown",
   "id": "5e06c52e",
   "metadata": {},
   "source": [
    "<div>\n",
    "    <p>\n",
    "        A ideia aqui passa por identificar uma 'latitude' que divida o perímetro estabelecido em norte e sul, por forma verificar se após efetudado o 'Request URL' temos menos de 100 registos em cada um dos perímetros.\n",
    "    </p>\n",
    "    <p>\n",
    "        Vamos experimentar a mediana.\n",
    "    </p>\n",
    "</div>"
   ]
  },
  {
   "cell_type": "code",
   "execution_count": 7,
   "id": "bf4dec68",
   "metadata": {},
   "outputs": [
    {
     "data": {
      "text/plain": [
       "38.71104"
      ]
     },
     "execution_count": 7,
     "metadata": {},
     "output_type": "execute_result"
    }
   ],
   "source": [
    "lat_div = df['latitude'].median()\n",
    "lat_div"
   ]
  },
  {
   "cell_type": "markdown",
   "id": "022dca90",
   "metadata": {},
   "source": [
    "<div>\n",
    "    <p>\n",
    "        Vamos agora criar o 'url_norte' e 'url_sul', nas quais incorporamos entre'{}'a latitude divisória.<br>\n",
    "        <strong>NOTA:</strong> Esta latitude divisória no 'url_norte' é incorporada no parâmetro 'btmRight' e no 'url_sul' no parâmetro 'topLeft'.\n",
    "    </p>\n",
    "</div>"
   ]
  },
  {
   "cell_type": "code",
   "execution_count": 8,
   "id": "ccba28e4",
   "metadata": {},
   "outputs": [],
   "source": [
    "url_norte = f\"https://api.tomtom.com/search/2/poiSearch/Caf%C3%A9.json?limit=100&topLeft=38.714921%2C-9.144199&btmRight={lat_div}%2C-9.132205&key=SGShbhTeJ6haP1OQ8uEELzjFaNYDhyZe\"\n",
    "url_sul = f\"https://api.tomtom.com/search/2/poiSearch/Caf%C3%A9.json?limit=100&topLeft={lat_div}%2C-9.144199&btmRight=38.705475%2C-9.132205&key=SGShbhTeJ6haP1OQ8uEELzjFaNYDhyZe\""
   ]
  },
  {
   "cell_type": "markdown",
   "id": "359eaf9b",
   "metadata": {},
   "source": [
    "<div>\n",
    "    <p>\n",
    "        De seguida vamos fazer os respetivos 'requests' e gravar em variávies à semelhança do que se fez lá atrás.<br>\n",
    "    </p>\n",
    "</div>"
   ]
  },
  {
   "cell_type": "code",
   "execution_count": 9,
   "id": "227d3b32",
   "metadata": {},
   "outputs": [],
   "source": [
    "payload={}\n",
    "headers = {}\n",
    "\n",
    "response_norte = requests.request(\"GET\", url_norte, headers=headers, data=payload)\n",
    "response_sul = requests.request(\"GET\", url_sul, headers=headers, data=payload)\n",
    "\n",
    "d_norte = response_norte.json()\n",
    "d_sul = response_sul.json()"
   ]
  },
  {
   "cell_type": "markdown",
   "id": "ee4c8929",
   "metadata": {},
   "source": [
    "<div>\n",
    "    <p>\n",
    "        Vamos agora verificar quantos 'Cafés' são retornados para cada consulta.<br>\n",
    "    </p>\n",
    "</div>"
   ]
  },
  {
   "cell_type": "code",
   "execution_count": 10,
   "id": "52ebbb0b",
   "metadata": {},
   "outputs": [
    {
     "name": "stdout",
     "output_type": "stream",
     "text": [
      "Total de cafés (norte): 86\n",
      "Total de cafés (sul): 93\n"
     ]
    }
   ],
   "source": [
    "print('Total de cafés (norte): {}'.format(str(d_norte['summary']['totalResults'])))\n",
    "print('Total de cafés (sul): {}'.format(str(d_sul['summary']['totalResults'])))"
   ]
  },
  {
   "cell_type": "markdown",
   "id": "a24d54d2",
   "metadata": {},
   "source": [
    "<div>\n",
    "    <p>\n",
    "        Como se verifica, qualquer um dos perímetros têm menos de 100 'Cafés', pelo que se encontra resolvido a limitação do parâmetro 'limit' da POI Search.\n",
    "    </p>\n",
    "</div>"
   ]
  },
  {
   "cell_type": "markdown",
   "id": "f3ba7b63",
   "metadata": {},
   "source": [
    "### 5.2 Perímetro Norte"
   ]
  },
  {
   "cell_type": "markdown",
   "id": "9f26bdb2",
   "metadata": {},
   "source": [
    "<div>\n",
    "    <p>\n",
    "        Vamos então criar o dataframe 'df_norte', para efetuarmos a análise subsequente.\n",
    "    </p>\n",
    "</div>"
   ]
  },
  {
   "cell_type": "code",
   "execution_count": 11,
   "id": "4d352a90",
   "metadata": {},
   "outputs": [],
   "source": [
    "df_norte = pd.DataFrame(columns=['cafe','rua/mun_subdiv', 'latitude', 'longitude'])\n",
    "for i in d_norte['results']:\n",
    "    try:\n",
    "        df_norte = df_norte.append({'cafe': i['poi']['name'],\n",
    "                                    'rua/mun_subdiv':i['address']['streetName'],\n",
    "                                    'latitude':i['position']['lat'],\n",
    "                                    'longitude':i['position']['lon']}, ignore_index=True)\n",
    "    except:\n",
    "        KeyError\n",
    "        df_norte = df_norte.append({'cafe': i['poi']['name'],\n",
    "                                    'rua/mun_subdiv':i['address']['municipalitySubdivision'],\n",
    "                                    'latitude':i['position']['lat'],\n",
    "                                    'longitude':i['position']['lon']}, ignore_index=True)"
   ]
  },
  {
   "cell_type": "markdown",
   "id": "d5e3977c",
   "metadata": {},
   "source": [
    "<div>\n",
    "    <p>\n",
    "        Como vemos o total dos registos do dataframe está coerente com 'totalResults' acima apresentado para o perímetro norte - 86 Cafés.\n",
    "    </p>\n",
    "</div>"
   ]
  },
  {
   "cell_type": "code",
   "execution_count": 12,
   "id": "f6ea101b",
   "metadata": {},
   "outputs": [
    {
     "name": "stdout",
     "output_type": "stream",
     "text": [
      "Total de cafés: 86\n"
     ]
    }
   ],
   "source": [
    "print('Total de cafés: {}'.format(str(d_norte['summary']['totalResults'])))"
   ]
  },
  {
   "cell_type": "markdown",
   "id": "a5ba8fd2",
   "metadata": {},
   "source": [
    "### 5.3 Perímetro Sul"
   ]
  },
  {
   "cell_type": "markdown",
   "id": "fbd778d1",
   "metadata": {},
   "source": [
    "<div>\n",
    "    <p>\n",
    "        Criemos agora o dataframe 'df_sul'.\n",
    "    </p>\n",
    "</div>"
   ]
  },
  {
   "cell_type": "code",
   "execution_count": 13,
   "id": "7e0ac1c6",
   "metadata": {},
   "outputs": [],
   "source": [
    "df_sul = pd.DataFrame(columns=['cafe','rua/mun_subdiv', 'latitude', 'longitude'])\n",
    "for i in d_sul['results']:\n",
    "    try:\n",
    "        df_sul = df_sul.append({'cafe': i['poi']['name'],\n",
    "                                'rua/mun_subdiv':i['address']['streetName'],\n",
    "                                'latitude':i['position']['lat'],\n",
    "                                'longitude':i['position']['lon']}, ignore_index=True)\n",
    "    except:\n",
    "        KeyError\n",
    "        df_sul = df_sul.append({'cafe': i['poi']['name'],\n",
    "                                'rua/mun_subdiv':i['address']['municipalitySubdivision'],\n",
    "                                'latitude':i['position']['lat'],\n",
    "                                'longitude':i['position']['lon']}, ignore_index=True)"
   ]
  },
  {
   "cell_type": "markdown",
   "id": "bebc2de4",
   "metadata": {},
   "source": [
    "<div>\n",
    "    <p>\n",
    "        Também aqui a informação é coerente com 'totalResults' acima apresentado para o perímetro sul - 93 Cafés.\n",
    "    </p>\n",
    "</div>"
   ]
  },
  {
   "cell_type": "code",
   "execution_count": 14,
   "id": "e1c836b1",
   "metadata": {},
   "outputs": [
    {
     "name": "stdout",
     "output_type": "stream",
     "text": [
      "Total de cafés: 93\n"
     ]
    }
   ],
   "source": [
    "print('Total de cafés: {}'.format(str(d_sul['summary']['totalResults'])))"
   ]
  },
  {
   "cell_type": "markdown",
   "id": "3b8e2617",
   "metadata": {},
   "source": [
    "### 5.4 Perímetro Norte_Sul"
   ]
  },
  {
   "cell_type": "markdown",
   "id": "98b96632",
   "metadata": {},
   "source": [
    "<div>\n",
    "    <p>\n",
    "        Vamos agora agregar os dois perímetros num só dataframe que será denominado por 'df_norte_sul', ordenando a 'latitude' e 'longitude' de forma descendente e ascendente, respetivamente.\n",
    "    </p>\n",
    "</div>"
   ]
  },
  {
   "cell_type": "code",
   "execution_count": 15,
   "id": "13cc8459",
   "metadata": {},
   "outputs": [],
   "source": [
    "df_norte_sul = df_norte.append(df_sul).sort_values(['latitude', 'longitude'], ascending = [False,True])"
   ]
  },
  {
   "cell_type": "markdown",
   "id": "986ab5a4",
   "metadata": {},
   "source": [
    "<div>\n",
    "    <p>\n",
    "        Conforme se visualiza o dataframe agora criado tem 179 linhas (86 + 93) e 4 colunas.\n",
    "    </p>\n",
    "</div>"
   ]
  },
  {
   "cell_type": "code",
   "execution_count": 16,
   "id": "ed201e39",
   "metadata": {},
   "outputs": [
    {
     "data": {
      "text/html": [
       "<div>\n",
       "<style scoped>\n",
       "    .dataframe tbody tr th:only-of-type {\n",
       "        vertical-align: middle;\n",
       "    }\n",
       "\n",
       "    .dataframe tbody tr th {\n",
       "        vertical-align: top;\n",
       "    }\n",
       "\n",
       "    .dataframe thead th {\n",
       "        text-align: right;\n",
       "    }\n",
       "</style>\n",
       "<table border=\"1\" class=\"dataframe\">\n",
       "  <thead>\n",
       "    <tr style=\"text-align: right;\">\n",
       "      <th></th>\n",
       "      <th>cafe</th>\n",
       "      <th>rua/mun_subdiv</th>\n",
       "      <th>latitude</th>\n",
       "      <th>longitude</th>\n",
       "    </tr>\n",
       "  </thead>\n",
       "  <tbody>\n",
       "    <tr>\n",
       "      <th>77</th>\n",
       "      <td>Café Taborda</td>\n",
       "      <td>Rua da Costa do Castelo</td>\n",
       "      <td>38.71483</td>\n",
       "      <td>-9.13265</td>\n",
       "    </tr>\n",
       "    <tr>\n",
       "      <th>64</th>\n",
       "      <td>Café Da Garagem</td>\n",
       "      <td>Rua da Costa do Castelo</td>\n",
       "      <td>38.71481</td>\n",
       "      <td>-9.13289</td>\n",
       "    </tr>\n",
       "    <tr>\n",
       "      <th>7</th>\n",
       "      <td>Café Garrett</td>\n",
       "      <td>Praça Dom João da Câmara</td>\n",
       "      <td>38.71470</td>\n",
       "      <td>-9.14049</td>\n",
       "    </tr>\n",
       "    <tr>\n",
       "      <th>6</th>\n",
       "      <td>RoofTop Hotel Mundial</td>\n",
       "      <td>Rua Dom Duarte</td>\n",
       "      <td>38.71468</td>\n",
       "      <td>-9.13727</td>\n",
       "    </tr>\n",
       "    <tr>\n",
       "      <th>85</th>\n",
       "      <td>Notas de Degustação Café</td>\n",
       "      <td>Rua do Arco do Marquês de Alegrete</td>\n",
       "      <td>38.71450</td>\n",
       "      <td>-9.13616</td>\n",
       "    </tr>\n",
       "    <tr>\n",
       "      <th>...</th>\n",
       "      <td>...</td>\n",
       "      <td>...</td>\n",
       "      <td>...</td>\n",
       "      <td>...</td>\n",
       "    </tr>\n",
       "    <tr>\n",
       "      <th>60</th>\n",
       "      <td>Gavia Do Mar</td>\n",
       "      <td>Rua Bernardino Costa</td>\n",
       "      <td>38.70684</td>\n",
       "      <td>-9.14318</td>\n",
       "    </tr>\n",
       "    <tr>\n",
       "      <th>0</th>\n",
       "      <td>Brasilia</td>\n",
       "      <td>Praça do Duque da Terceira</td>\n",
       "      <td>38.70671</td>\n",
       "      <td>-9.14371</td>\n",
       "    </tr>\n",
       "    <tr>\n",
       "      <th>56</th>\n",
       "      <td>Recife</td>\n",
       "      <td>Praça do Duque da Terceira</td>\n",
       "      <td>38.70658</td>\n",
       "      <td>-9.14358</td>\n",
       "    </tr>\n",
       "    <tr>\n",
       "      <th>20</th>\n",
       "      <td>Hennessy's Irish Pub</td>\n",
       "      <td>Cais Do Sodré</td>\n",
       "      <td>38.70657</td>\n",
       "      <td>-9.14269</td>\n",
       "    </tr>\n",
       "    <tr>\n",
       "      <th>3</th>\n",
       "      <td>Quiosque Ribeira Das Naus</td>\n",
       "      <td>Avenida da Ribeira das Naus</td>\n",
       "      <td>38.70550</td>\n",
       "      <td>-9.14146</td>\n",
       "    </tr>\n",
       "  </tbody>\n",
       "</table>\n",
       "<p>179 rows × 4 columns</p>\n",
       "</div>"
      ],
      "text/plain": [
       "                         cafe                      rua/mun_subdiv  latitude  \\\n",
       "77               Café Taborda             Rua da Costa do Castelo  38.71483   \n",
       "64            Café Da Garagem             Rua da Costa do Castelo  38.71481   \n",
       "7                Café Garrett            Praça Dom João da Câmara  38.71470   \n",
       "6       RoofTop Hotel Mundial                      Rua Dom Duarte  38.71468   \n",
       "85   Notas de Degustação Café  Rua do Arco do Marquês de Alegrete  38.71450   \n",
       "..                        ...                                 ...       ...   \n",
       "60               Gavia Do Mar                Rua Bernardino Costa  38.70684   \n",
       "0                    Brasilia          Praça do Duque da Terceira  38.70671   \n",
       "56                     Recife          Praça do Duque da Terceira  38.70658   \n",
       "20       Hennessy's Irish Pub                       Cais Do Sodré  38.70657   \n",
       "3   Quiosque Ribeira Das Naus         Avenida da Ribeira das Naus  38.70550   \n",
       "\n",
       "    longitude  \n",
       "77   -9.13265  \n",
       "64   -9.13289  \n",
       "7    -9.14049  \n",
       "6    -9.13727  \n",
       "85   -9.13616  \n",
       "..        ...  \n",
       "60   -9.14318  \n",
       "0    -9.14371  \n",
       "56   -9.14358  \n",
       "20   -9.14269  \n",
       "3    -9.14146  \n",
       "\n",
       "[179 rows x 4 columns]"
      ]
     },
     "execution_count": 16,
     "metadata": {},
     "output_type": "execute_result"
    }
   ],
   "source": [
    "df_norte_sul"
   ]
  },
  {
   "cell_type": "markdown",
   "id": "dd356b2a",
   "metadata": {},
   "source": [
    "### 5.5 Coerência dos dados"
   ]
  },
  {
   "cell_type": "markdown",
   "id": "d0199514",
   "metadata": {},
   "source": [
    "<div>\n",
    "    <p>\n",
    "        Vamos começar por verificar se existem cafés duplicados no dataframe criado. Para tal vamos contar os registos únicos na coluna 'cafe'.\n",
    "    </p>\n",
    "    <p>\n",
    "        Daqui resulta que existem 179 registos unicos, que corresponde à soma dos registos dos dataframes norte e sul, pelo que podemos concluir pela inexistência de duplicados.\n",
    "    </p>\n",
    "</div>\n"
   ]
  },
  {
   "cell_type": "code",
   "execution_count": 17,
   "id": "c3822a42",
   "metadata": {},
   "outputs": [
    {
     "data": {
      "text/plain": [
       "179"
      ]
     },
     "execution_count": 17,
     "metadata": {},
     "output_type": "execute_result"
    }
   ],
   "source": [
    "len(df_norte_sul['cafe'].unique())"
   ]
  },
  {
   "cell_type": "markdown",
   "id": "6ae0247a",
   "metadata": {},
   "source": [
    "<div>\n",
    "    <p>\n",
    "        Vamos agora tentar perceber se a ordenação efetuada aquando da criação do dataframe 'df_norte_sul', está de acordo com o pretendido, ou seja, ordenar os cafés pela sua posição no mapa da esquerda para a direita e de cima para baixo, à semelhança da escrita ocidental.\n",
    "    </p>\n",
    "    <p>\n",
    "        Vamos primeiro identificar registos com a mesma 'latitude' e ver a correpondente 'longitude'\n",
    "    </p>\n",
    "</div>"
   ]
  },
  {
   "cell_type": "code",
   "execution_count": 18,
   "id": "dab7b4bd",
   "metadata": {},
   "outputs": [
    {
     "data": {
      "text/plain": [
       "38.71344    3\n",
       "38.70723    3\n",
       "38.71209    3\n",
       "38.71107    3\n",
       "38.70729    2\n",
       "Name: latitude, dtype: int64"
      ]
     },
     "execution_count": 18,
     "metadata": {},
     "output_type": "execute_result"
    }
   ],
   "source": [
    "df_norte_sul['latitude'].value_counts().head()"
   ]
  },
  {
   "cell_type": "markdown",
   "id": "07096fc0",
   "metadata": {},
   "source": [
    "<div>\n",
    "    <p>\n",
    "        Debruçemo-nos pelos registos com latitude '37.71107'. Como se verifica a ordenação está de acordo com o pretendico do menor para o maior.\n",
    "    </p>\n",
    "</div>"
   ]
  },
  {
   "cell_type": "code",
   "execution_count": 19,
   "id": "0688d6f7",
   "metadata": {},
   "outputs": [
    {
     "data": {
      "text/html": [
       "<div>\n",
       "<style scoped>\n",
       "    .dataframe tbody tr th:only-of-type {\n",
       "        vertical-align: middle;\n",
       "    }\n",
       "\n",
       "    .dataframe tbody tr th {\n",
       "        vertical-align: top;\n",
       "    }\n",
       "\n",
       "    .dataframe thead th {\n",
       "        text-align: right;\n",
       "    }\n",
       "</style>\n",
       "<table border=\"1\" class=\"dataframe\">\n",
       "  <thead>\n",
       "    <tr style=\"text-align: right;\">\n",
       "      <th></th>\n",
       "      <th>cafe</th>\n",
       "      <th>rua/mun_subdiv</th>\n",
       "      <th>latitude</th>\n",
       "      <th>longitude</th>\n",
       "    </tr>\n",
       "  </thead>\n",
       "  <tbody>\n",
       "    <tr>\n",
       "      <th>22</th>\n",
       "      <td>Magote Bar</td>\n",
       "      <td>Rua do Diário de Notícias</td>\n",
       "      <td>38.71107</td>\n",
       "      <td>-9.14412</td>\n",
       "    </tr>\n",
       "    <tr>\n",
       "      <th>41</th>\n",
       "      <td>Café Suave</td>\n",
       "      <td>Rua do Diário de Notícias</td>\n",
       "      <td>38.71107</td>\n",
       "      <td>-9.14411</td>\n",
       "    </tr>\n",
       "    <tr>\n",
       "      <th>46</th>\n",
       "      <td>Café Vitória</td>\n",
       "      <td>Rua da Vitória</td>\n",
       "      <td>38.71107</td>\n",
       "      <td>-9.13747</td>\n",
       "    </tr>\n",
       "  </tbody>\n",
       "</table>\n",
       "</div>"
      ],
      "text/plain": [
       "            cafe             rua/mun_subdiv  latitude  longitude\n",
       "22    Magote Bar  Rua do Diário de Notícias  38.71107   -9.14412\n",
       "41    Café Suave  Rua do Diário de Notícias  38.71107   -9.14411\n",
       "46  Café Vitória             Rua da Vitória  38.71107   -9.13747"
      ]
     },
     "execution_count": 19,
     "metadata": {},
     "output_type": "execute_result"
    }
   ],
   "source": [
    "df_norte_sul.loc[df_norte_sul['latitude']==38.71107]"
   ]
  },
  {
   "cell_type": "markdown",
   "id": "81f62b27",
   "metadata": {},
   "source": [
    "<div class=\"alert alert-success\">\n",
    "    <p>\n",
    "        A presente seccão tinha como principal objetivo listar todos os 179 cafés existentes no perímetro definido como correspondendo à Baixa Pombalina, o que foi alcançado com a divisão do mesmo em perímetros menores por forma a que cada um tivesse menos de 100 registos. Assim, com base em 2 'requests', um para devolver o perímetro norte e outro o perímetro sul foi alcançado o pretendido.\n",
    "    </p>\n",
    "</div>"
   ]
  },
  {
   "cell_type": "markdown",
   "id": "e3e7d3ec",
   "metadata": {},
   "source": [
    "<div class=\"alert alert-info\">\n",
    "    6. Análise final\n",
    "</div>"
   ]
  },
  {
   "cell_type": "markdown",
   "id": "84e4fd9e",
   "metadata": {},
   "source": [
    "<div>\n",
    "    <p>\n",
    "        Nesta secção a ideia é através de uma perceção pessoal, identificar ruas que possam ser de se excluir do dataframe 'df_norte_sul', por não integrarem a Baixa Pombalina, e posteriomente proceder à contagem.\n",
    "    </p>\n",
    "</div>"
   ]
  },
  {
   "cell_type": "markdown",
   "id": "9ff5f106",
   "metadata": {},
   "source": [
    "### 6.1 Ruas a excluir"
   ]
  },
  {
   "cell_type": "markdown",
   "id": "9f5e096a",
   "metadata": {},
   "source": [
    "<div>\n",
    "    <p>\n",
    "        Por perceção pessoal, parece que as ruas a oeste da Rua do Alecrim, não farão parte da Baixa Pombalina, pelo que vamos guardar as mesmas numa lista 'ruas_a_remover' \n",
    "    </p>\n",
    "</div>"
   ]
  },
  {
   "cell_type": "code",
   "execution_count": 20,
   "id": "137ef5a2",
   "metadata": {},
   "outputs": [],
   "source": [
    "ruas_a_remover = ['Rua do Diário de Notícias', 'Rua do Norte', 'Rua das Gáveas', 'Rua das Flores', 'Travessa da Espera']"
   ]
  },
  {
   "cell_type": "markdown",
   "id": "870a3d26",
   "metadata": {},
   "source": [
    "<div>\n",
    "    <p>\n",
    "        Vamos agora visualizar os cafés a excluir com base nas ruas descritas atrás.\n",
    "    </p>\n",
    "</div>"
   ]
  },
  {
   "cell_type": "code",
   "execution_count": 21,
   "id": "dc07aab1",
   "metadata": {},
   "outputs": [
    {
     "data": {
      "text/html": [
       "<div>\n",
       "<style scoped>\n",
       "    .dataframe tbody tr th:only-of-type {\n",
       "        vertical-align: middle;\n",
       "    }\n",
       "\n",
       "    .dataframe tbody tr th {\n",
       "        vertical-align: top;\n",
       "    }\n",
       "\n",
       "    .dataframe thead th {\n",
       "        text-align: right;\n",
       "    }\n",
       "</style>\n",
       "<table border=\"1\" class=\"dataframe\">\n",
       "  <thead>\n",
       "    <tr style=\"text-align: right;\">\n",
       "      <th></th>\n",
       "      <th>cafe</th>\n",
       "      <th>rua/mun_subdiv</th>\n",
       "      <th>latitude</th>\n",
       "      <th>longitude</th>\n",
       "    </tr>\n",
       "  </thead>\n",
       "  <tbody>\n",
       "    <tr>\n",
       "      <th>50</th>\n",
       "      <td>The Corner</td>\n",
       "      <td>Rua do Norte</td>\n",
       "      <td>38.71296</td>\n",
       "      <td>-9.14387</td>\n",
       "    </tr>\n",
       "    <tr>\n",
       "      <th>57</th>\n",
       "      <td>Alface Hall</td>\n",
       "      <td>Rua do Norte</td>\n",
       "      <td>38.71293</td>\n",
       "      <td>-9.14373</td>\n",
       "    </tr>\n",
       "    <tr>\n",
       "      <th>8</th>\n",
       "      <td>Bar Aché Cohiba</td>\n",
       "      <td>Rua do Norte</td>\n",
       "      <td>38.71291</td>\n",
       "      <td>-9.14380</td>\n",
       "    </tr>\n",
       "    <tr>\n",
       "      <th>73</th>\n",
       "      <td>Barbaridades Bar</td>\n",
       "      <td>Rua do Norte</td>\n",
       "      <td>38.71276</td>\n",
       "      <td>-9.14382</td>\n",
       "    </tr>\n",
       "    <tr>\n",
       "      <th>31</th>\n",
       "      <td>Páginas Tantas</td>\n",
       "      <td>Rua do Diário de Notícias</td>\n",
       "      <td>38.71241</td>\n",
       "      <td>-9.14419</td>\n",
       "    </tr>\n",
       "    <tr>\n",
       "      <th>34</th>\n",
       "      <td>Favela Chic</td>\n",
       "      <td>Rua do Diário de Notícias</td>\n",
       "      <td>38.71224</td>\n",
       "      <td>-9.14410</td>\n",
       "    </tr>\n",
       "    <tr>\n",
       "      <th>3</th>\n",
       "      <td>Nova Tertúlia</td>\n",
       "      <td>Rua do Diário de Notícias</td>\n",
       "      <td>38.71213</td>\n",
       "      <td>-9.14411</td>\n",
       "    </tr>\n",
       "    <tr>\n",
       "      <th>48</th>\n",
       "      <td>Bar Do Ricardo</td>\n",
       "      <td>Rua do Norte</td>\n",
       "      <td>38.71188</td>\n",
       "      <td>-9.14381</td>\n",
       "    </tr>\n",
       "    <tr>\n",
       "      <th>44</th>\n",
       "      <td>Sentido Proibido 2</td>\n",
       "      <td>Rua do Diário de Notícias</td>\n",
       "      <td>38.71171</td>\n",
       "      <td>-9.14409</td>\n",
       "    </tr>\n",
       "    <tr>\n",
       "      <th>33</th>\n",
       "      <td>Lábios De Vinho</td>\n",
       "      <td>Rua do Norte</td>\n",
       "      <td>38.71161</td>\n",
       "      <td>-9.14374</td>\n",
       "    </tr>\n",
       "    <tr>\n",
       "      <th>28</th>\n",
       "      <td>Tasca Dos Canários</td>\n",
       "      <td>Travessa da Espera</td>\n",
       "      <td>38.71157</td>\n",
       "      <td>-9.14373</td>\n",
       "    </tr>\n",
       "    <tr>\n",
       "      <th>51</th>\n",
       "      <td>Kamasutra Bar</td>\n",
       "      <td>Travessa da Espera</td>\n",
       "      <td>38.71154</td>\n",
       "      <td>-9.14359</td>\n",
       "    </tr>\n",
       "    <tr>\n",
       "      <th>19</th>\n",
       "      <td>Eclipse</td>\n",
       "      <td>Rua do Diário de Notícias</td>\n",
       "      <td>38.71112</td>\n",
       "      <td>-9.14412</td>\n",
       "    </tr>\n",
       "    <tr>\n",
       "      <th>22</th>\n",
       "      <td>Magote Bar</td>\n",
       "      <td>Rua do Diário de Notícias</td>\n",
       "      <td>38.71107</td>\n",
       "      <td>-9.14412</td>\n",
       "    </tr>\n",
       "    <tr>\n",
       "      <th>41</th>\n",
       "      <td>Café Suave</td>\n",
       "      <td>Rua do Diário de Notícias</td>\n",
       "      <td>38.71107</td>\n",
       "      <td>-9.14411</td>\n",
       "    </tr>\n",
       "    <tr>\n",
       "      <th>66</th>\n",
       "      <td>Ginjinha Das Gáveas</td>\n",
       "      <td>Rua das Gáveas</td>\n",
       "      <td>38.71105</td>\n",
       "      <td>-9.14334</td>\n",
       "    </tr>\n",
       "    <tr>\n",
       "      <th>65</th>\n",
       "      <td>A Trave</td>\n",
       "      <td>Rua das Gáveas</td>\n",
       "      <td>38.71104</td>\n",
       "      <td>-9.14333</td>\n",
       "    </tr>\n",
       "    <tr>\n",
       "      <th>72</th>\n",
       "      <td>Fabrica Coffee Shop</td>\n",
       "      <td>Rua das Flores</td>\n",
       "      <td>38.70940</td>\n",
       "      <td>-9.14366</td>\n",
       "    </tr>\n",
       "  </tbody>\n",
       "</table>\n",
       "</div>"
      ],
      "text/plain": [
       "                   cafe             rua/mun_subdiv  latitude  longitude\n",
       "50           The Corner               Rua do Norte  38.71296   -9.14387\n",
       "57          Alface Hall               Rua do Norte  38.71293   -9.14373\n",
       "8       Bar Aché Cohiba               Rua do Norte  38.71291   -9.14380\n",
       "73     Barbaridades Bar               Rua do Norte  38.71276   -9.14382\n",
       "31       Páginas Tantas  Rua do Diário de Notícias  38.71241   -9.14419\n",
       "34          Favela Chic  Rua do Diário de Notícias  38.71224   -9.14410\n",
       "3         Nova Tertúlia  Rua do Diário de Notícias  38.71213   -9.14411\n",
       "48       Bar Do Ricardo               Rua do Norte  38.71188   -9.14381\n",
       "44   Sentido Proibido 2  Rua do Diário de Notícias  38.71171   -9.14409\n",
       "33      Lábios De Vinho               Rua do Norte  38.71161   -9.14374\n",
       "28   Tasca Dos Canários         Travessa da Espera  38.71157   -9.14373\n",
       "51        Kamasutra Bar         Travessa da Espera  38.71154   -9.14359\n",
       "19              Eclipse  Rua do Diário de Notícias  38.71112   -9.14412\n",
       "22           Magote Bar  Rua do Diário de Notícias  38.71107   -9.14412\n",
       "41           Café Suave  Rua do Diário de Notícias  38.71107   -9.14411\n",
       "66  Ginjinha Das Gáveas             Rua das Gáveas  38.71105   -9.14334\n",
       "65              A Trave             Rua das Gáveas  38.71104   -9.14333\n",
       "72  Fabrica Coffee Shop             Rua das Flores  38.70940   -9.14366"
      ]
     },
     "execution_count": 21,
     "metadata": {},
     "output_type": "execute_result"
    }
   ],
   "source": [
    "df_cafes_a_remover = df_norte_sul.loc[df_norte_sul['rua/mun_subdiv'].isin(ruas_a_remover)]\n",
    "df_cafes_a_remover"
   ]
  },
  {
   "cell_type": "markdown",
   "id": "b339a22f",
   "metadata": {},
   "source": [
    "<div>\n",
    "    <p>\n",
    "        Contemos os cafés a excluir.\n",
    "    </p>\n",
    "</div>"
   ]
  },
  {
   "cell_type": "code",
   "execution_count": 22,
   "id": "8f791acf",
   "metadata": {},
   "outputs": [
    {
     "name": "stdout",
     "output_type": "stream",
     "text": [
      "18\n"
     ]
    }
   ],
   "source": [
    "print(len(df_cafes_a_remover))"
   ]
  },
  {
   "cell_type": "markdown",
   "id": "81870cb6",
   "metadata": {},
   "source": [
    "### 6.2 Dados finais"
   ]
  },
  {
   "cell_type": "markdown",
   "id": "38609c50",
   "metadata": {},
   "source": [
    "<div>\n",
    "    <p>\n",
    "        A ideia aqui é criar uma coluna auxiliar, com indicação se trata-se de um registo a remover ou não.\n",
    "    </p>\n",
    "</div>"
   ]
  },
  {
   "cell_type": "code",
   "execution_count": 23,
   "id": "6ae245af",
   "metadata": {},
   "outputs": [],
   "source": [
    "df_norte_sul['remover'] = df_norte_sul['rua/mun_subdiv'].isin(ruas_a_remover)"
   ]
  },
  {
   "cell_type": "markdown",
   "id": "0a1d7260",
   "metadata": {},
   "source": [
    "<div>\n",
    "    <p>\n",
    "        Na sequência filtramos o dataframe de modo a remover os registos com a 'True' na coluna criada 'remover' e guardamos noutro dataframe 'df_norte_sul_final'\n",
    "    </p>\n",
    "</div>"
   ]
  },
  {
   "cell_type": "code",
   "execution_count": 24,
   "id": "71916b54",
   "metadata": {},
   "outputs": [],
   "source": [
    "df_norte_sul_final = df_norte_sul.loc[df_norte_sul['remover']==False]"
   ]
  },
  {
   "cell_type": "markdown",
   "id": "5ffd89fa",
   "metadata": {},
   "source": [
    "### 6.3 Resposta ao desafio"
   ]
  },
  {
   "cell_type": "markdown",
   "id": "d3d12273",
   "metadata": {},
   "source": [
    "<div>\n",
    "    <p>\n",
    "        Chegados aqui, a resposta é fácil, basta ver o tamanho do dataframe 'df_norte_sul_final'\n",
    "    </p>\n",
    "</div>"
   ]
  },
  {
   "cell_type": "code",
   "execution_count": 25,
   "id": "c2e43957",
   "metadata": {},
   "outputs": [
    {
     "name": "stdout",
     "output_type": "stream",
     "text": [
      "Total de Cafés na Baixa Pombalina: 161 cafés\n"
     ]
    }
   ],
   "source": [
    "print('Total de Cafés na Baixa Pombalina: {} cafés'.format(str(len(df_norte_sul_final))))"
   ]
  },
  {
   "cell_type": "markdown",
   "id": "bd88e963",
   "metadata": {},
   "source": [
    "<div>\n",
    "        <strong>Nota:</strong> Que aliás corresponde a (179- 18)\n",
    "</div>"
   ]
  },
  {
   "cell_type": "markdown",
   "id": "42c5947a",
   "metadata": {},
   "source": [
    "<div class=\"alert alert-success\">\n",
    "    <p>\n",
    "        Em resumo, no presente trabalho tentou-se seguir uma linha lógica no calculo do número de cafés existentes na Baixa Pombalina, começando pelo contacto com a API da TomTom, escolha do endpoint adequado, passando pelo Postmam e geração de código para utilização em python, e ultrapassando os constangimentos pela limitação de visualização de dados retornados pela POI Search, bem como mitigação de possiveis áreas a excluir do perímetro definido à priori.\n",
    "    </p>\n",
    "    <p>\n",
    "        CONSIDERAÇÕES FINAIS\n",
    "    </p>\n",
    "    Por economia de esforço e atendendo à percepção da abrangência do exercício:\n",
    "    <ul>\n",
    "        <li>Não se entendeu alargar as ruas a excluir, ficando-se pela ideia e identificando-se apenas 5</li>\n",
    "        <li>Tomou-se como válida a informação do Wikipédia</li>\n",
    "        <li>Não foram pesquisadas outras fontes ou contactado a CML ou juntas de freguesia para refinar àreas a incluir ou excluir</li>\n",
    "        <li>Algum texto em markdowm com explicação que envolva contagem pode sofer alguma incoerência atendendo à dinâmica dos dados.</li>\n",
    "    </ul>\n",
    "</div>"
   ]
  }
 ],
 "metadata": {
  "kernelspec": {
   "display_name": "Python 3",
   "language": "python",
   "name": "python3"
  },
  "language_info": {
   "codemirror_mode": {
    "name": "ipython",
    "version": 3
   },
   "file_extension": ".py",
   "mimetype": "text/x-python",
   "name": "python",
   "nbconvert_exporter": "python",
   "pygments_lexer": "ipython3",
   "version": "3.8.8"
  }
 },
 "nbformat": 4,
 "nbformat_minor": 5
}
